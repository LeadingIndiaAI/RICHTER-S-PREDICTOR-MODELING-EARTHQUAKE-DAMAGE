{
 "cells": [
  {
   "cell_type": "code",
   "execution_count": 1,
   "metadata": {},
   "outputs": [],
   "source": [
    "import pandas as pd\n",
    "import matplotlib.pyplot as plt\n",
    "from sklearn.model_selection import train_test_split\n",
    "from sklearn.ensemble import RandomForestClassifier\n",
    "from sklearn import metrics\n",
    "%matplotlib inline\n",
    "\n",
    "traindata = pd.read_csv(\"train_values.csv\",sep=',')\n",
    "traindata.columns[traindata.isna().any()]\n",
    "data=traindata\n",
    "data.drop(['building_id'], axis=1, inplace=True)\n",
    "trainlabels = pd.read_csv(\"train_labels.csv\",sep=',')\n",
    "trainout=trainlabels\n",
    "trainout.drop(['building_id'], axis=1, inplace=True)\n",
    "testvalues = pd.read_csv(\"test_values.csv\",sep=',')\n",
    "testdata=testvalues\n",
    "testdata.drop(['building_id'], axis=1, inplace=True)"
   ]
  },
  {
   "cell_type": "code",
   "execution_count": 2,
   "metadata": {},
   "outputs": [],
   "source": [
    "cleanup_letters = {\"land_surface_condition\": {\"n\": 1, \"o\": 2, \"t\":3},\n",
    "                \"foundation_type\": {\"h\": 1, \"i\": 2, \"r\": 3, \"u\": 4, \"w\": 5},               \n",
    "                \"roof_type\": {\"n\": 1, \"q\": 2, \"x\": 3},\n",
    "                \"ground_floor_type\": {\"f\": 1, \"m\": 2, \"v\": 3, \"x\": 4, \"z\": 5},\n",
    "                \"other_floor_type\": {\"j\": 1, \"q\": 2, \"s\": 3, \"x\": 4},\n",
    "                \"position\": {\"j\": 1, \"o\": 2, \"s\": 3, \"t\": 4},\n",
    "                \"plan_configuration\": {\"a\": 1, \"c\": 2, \"d\": 3, \"f\": 4, \"m\": 5, \"n\": 6, \"o\": 7, \"q\": 8, \"s\": 9, \"u\":10},\n",
    "                \"legal_ownership_status\": {\"a\": 1, \"r\": 2, \"v\": 3, \"w\": 4}             \n",
    "               }\n",
    "data.replace(cleanup_letters, inplace=True)\n",
    "testdata.replace(cleanup_letters, inplace=True)\n",
    "a = list(data)\n",
    "del a[-1]\n",
    "x = data[a].values\n",
    "y = trainout['damage_grade'].values"
   ]
  },
  {
   "cell_type": "code",
   "execution_count": 12,
   "metadata": {},
   "outputs": [
    {
     "name": "stdout",
     "output_type": "stream",
     "text": [
      "[0.57470647 0.57094621 0.57163687 0.57156013 0.57191097 0.57029931\n",
      " 0.56922487 0.5732924  0.57405986 0.57382962 0.57298542 0.57536454\n",
      " 0.57436685 0.57306216 0.57336915 0.5742901  0.57191097 0.5752878\n",
      " 0.57157111 0.5697728 ]\n"
     ]
    },
    {
     "data": {
      "text/plain": [
       "0.5726723801498025"
      ]
     },
     "execution_count": 12,
     "metadata": {},
     "output_type": "execute_result"
    }
   ],
   "source": [
    "import numpy as np\n",
    "from sklearn.naive_bayes import GaussianNB\n",
    "from sklearn.naive_bayes import BernoulliNB\n",
    "from sklearn.model_selection import cross_val_score\n",
    "#X = data[data.columns[:-1]]\n",
    "#y = data.species\n",
    "\n",
    "GNB = BernoulliNB()\n",
    "cv_N = 20\n",
    "scores = cross_val_score(GNB, x, y, n_jobs=cv_N, cv=cv_N)\n",
    "print(scores)\n",
    "np.mean(scores)"
   ]
  },
  {
   "cell_type": "code",
   "execution_count": 13,
   "metadata": {},
   "outputs": [
    {
     "data": {
      "text/plain": [
       "{'gaussian': 0.4289315296513503,\n",
       " 'bernoulli': 0.5726723801498025,\n",
       " 'multinomial': 0.2695346594979376}"
      ]
     },
     "execution_count": 13,
     "metadata": {},
     "output_type": "execute_result"
    }
   ],
   "source": [
    "from sklearn.naive_bayes import GaussianNB, BernoulliNB, MultinomialNB\n",
    "nb = {'gaussian': GaussianNB(),\n",
    "      'bernoulli': BernoulliNB(),\n",
    "      'multinomial': MultinomialNB()}\n",
    "scores = {}\n",
    "for key, model in nb.items():\n",
    "    s = cross_val_score(model, X, y, cv=cv_N, n_jobs=cv_N, scoring='accuracy')\n",
    "    scores[key] = np.mean(s)\n",
    "scores"
   ]
  },
  {
   "cell_type": "code",
   "execution_count": null,
   "metadata": {},
   "outputs": [],
   "source": []
  }
 ],
 "metadata": {
  "kernelspec": {
   "display_name": "Python 3",
   "language": "python",
   "name": "python3"
  },
  "language_info": {
   "codemirror_mode": {
    "name": "ipython",
    "version": 3
   },
   "file_extension": ".py",
   "mimetype": "text/x-python",
   "name": "python",
   "nbconvert_exporter": "python",
   "pygments_lexer": "ipython3",
   "version": "3.7.3"
  }
 },
 "nbformat": 4,
 "nbformat_minor": 2
}
