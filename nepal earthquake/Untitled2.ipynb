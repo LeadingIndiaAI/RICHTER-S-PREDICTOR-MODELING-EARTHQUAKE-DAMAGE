{
 "cells": [
  {
   "cell_type": "code",
   "execution_count": 1,
   "metadata": {},
   "outputs": [],
   "source": [
    "import pandas as pd\n",
    "import matplotlib.pyplot as plt\n",
    "from sklearn.model_selection import train_test_split\n",
    "from sklearn.ensemble import RandomForestClassifier\n",
    "from sklearn import metrics\n",
    "%matplotlib inline\n",
    "\n",
    "traindata = pd.read_csv(\"train_values.csv\",sep=',')\n",
    "traindata.columns[traindata.isna().any()]\n",
    "data=traindata\n",
    "data.drop(['building_id'], axis=1, inplace=True)\n",
    "trainlabels = pd.read_csv(\"train_labels.csv\",sep=',')\n",
    "trainout=trainlabels\n",
    "trainout.drop(['building_id'], axis=1, inplace=True)\n",
    "testvalues = pd.read_csv(\"test_values.csv\",sep=',')\n",
    "testdata=testvalues\n",
    "testdata.drop(['building_id'], axis=1, inplace=True)"
   ]
  },
  {
   "cell_type": "code",
   "execution_count": 2,
   "metadata": {},
   "outputs": [],
   "source": [
    "cleanup_letters = {\"land_surface_condition\": {\"n\": 1, \"o\": 2, \"t\":3},\n",
    "                \"foundation_type\": {\"h\": 1, \"i\": 2, \"r\": 3, \"u\": 4, \"w\": 5},               \n",
    "                \"roof_type\": {\"n\": 1, \"q\": 2, \"x\": 3},\n",
    "                \"ground_floor_type\": {\"f\": 1, \"m\": 2, \"v\": 3, \"x\": 4, \"z\": 5},\n",
    "                \"other_floor_type\": {\"j\": 1, \"q\": 2, \"s\": 3, \"x\": 4},\n",
    "                \"position\": {\"j\": 1, \"o\": 2, \"s\": 3, \"t\": 4},\n",
    "                \"plan_configuration\": {\"a\": 1, \"c\": 2, \"d\": 3, \"f\": 4, \"m\": 5, \"n\": 6, \"o\": 7, \"q\": 8, \"s\": 9, \"u\":10},\n",
    "                \"legal_ownership_status\": {\"a\": 1, \"r\": 2, \"v\": 3, \"w\": 4}             \n",
    "               }\n",
    "data.replace(cleanup_letters, inplace=True)\n",
    "testdata.replace(cleanup_letters, inplace=True)\n",
    "a = list(data)\n",
    "del a[-1]\n",
    "x = data[a].values\n",
    "y = trainout['damage_grade'].values\n",
    "from sklearn.model_selection import train_test_split\n",
    "x_train,x_test,y_train,y_test=train_test_split(x,y,test_size=0.2,random_state=0)"
   ]
  },
  {
   "cell_type": "code",
   "execution_count": 10,
   "metadata": {},
   "outputs": [
    {
     "data": {
      "text/plain": [
       "'from sklearn.metrics import f1_score\\nimport numpy as np\\ny_pred0=clf.predict(x_test)\\nf1_model0=f1_score(y_test,y_pred0,average=\\'micro\\',labels=np.unique(y_pred0))\\nprint(\"F1 score Model 0 : \",f1_model0)'"
      ]
     },
     "execution_count": 10,
     "metadata": {},
     "output_type": "execute_result"
    }
   ],
   "source": [
    "clf = RandomForestClassifier(n_estimators=50,max_features=27,min_samples_leaf=5,n_jobs=-1,random_state=42)\n",
    "clf.fit(x, y)\n",
    "\"\"\"from sklearn.metrics import f1_score\n",
    "import numpy as np\n",
    "y_pred0=clf.predict(x_test)\n",
    "f1_model0=f1_score(y_test,y_pred0,average='micro',labels=np.unique(y_pred0))\n",
    "print(\"F1 score Model 0 : \",f1_model0)\"\"\""
   ]
  },
  {
   "cell_type": "code",
   "execution_count": 13,
   "metadata": {},
   "outputs": [],
   "source": [
    "test=testdata[a].values\n",
    "y_pred=clf.predict(test)\n",
    "df1=pd.DataFrame({'damage_grade':y_pred})\n",
    "traindata = pd.read_csv(\"test_values.csv\",sep=',')\n",
    "building_id = traindata['building_id'].values\n",
    "building_id\n",
    "df1['building_id'] = building_id\n",
    "cols = df1.columns.tolist()\n",
    "cols = cols[-1:] + cols[:-1]\n",
    "df1 = df1[cols]"
   ]
  },
  {
   "cell_type": "code",
   "execution_count": 14,
   "metadata": {},
   "outputs": [],
   "source": [
    "export_csv = df1.to_csv (r'C:\\Users\\HP\\Desktop\\131.csv', index = None, header=True)"
   ]
  },
  {
   "cell_type": "code",
   "execution_count": null,
   "metadata": {},
   "outputs": [],
   "source": []
  },
  {
   "cell_type": "code",
   "execution_count": null,
   "metadata": {},
   "outputs": [],
   "source": []
  },
  {
   "cell_type": "code",
   "execution_count": null,
   "metadata": {},
   "outputs": [],
   "source": []
  }
 ],
 "metadata": {
  "kernelspec": {
   "display_name": "Python 3",
   "language": "python",
   "name": "python3"
  },
  "language_info": {
   "codemirror_mode": {
    "name": "ipython",
    "version": 3
   },
   "file_extension": ".py",
   "mimetype": "text/x-python",
   "name": "python",
   "nbconvert_exporter": "python",
   "pygments_lexer": "ipython3",
   "version": "3.7.3"
  }
 },
 "nbformat": 4,
 "nbformat_minor": 2
}
