{
 "cells": [
  {
   "cell_type": "code",
   "execution_count": 82,
   "metadata": {},
   "outputs": [],
   "source": [
    "import pandas as pd\n",
    "import matplotlib.pyplot as plt\n",
    "from sklearn.model_selection import train_test_split\n",
    "from sklearn.linear_model import LogisticRegression\n",
    "from sklearn.svm import SVC\n",
    "from sklearn.tree import DecisionTreeClassifier\n",
    "from sklearn.ensemble import RandomForestClassifier\n",
    "from sklearn.ensemble import GradientBoostingClassifier\n",
    "from sklearn import metrics\n",
    "%matplotlib inline\n",
    "from sklearn.metrics import f1_score\n",
    "import numpy as np\n",
    "from sklearn.metrics import f1_score\n",
    "\n",
    "traindata = pd.read_csv(\"train_values.csv\",sep=',')\n",
    "traindata.columns[traindata.isna().any()]\n",
    "data=traindata\n",
    "data.drop(['building_id'], axis=1, inplace=True)\n",
    "trainlabels = pd.read_csv(\"train_labels.csv\",sep=',')\n",
    "trainout=trainlabels\n",
    "trainout.drop(['building_id'], axis=1, inplace=True)\n",
    "testvalues = pd.read_csv(\"test_values.csv\",sep=',')\n",
    "testdata=testvalues\n",
    "testdata.drop(['building_id'], axis=1, inplace=True)"
   ]
  },
  {
   "cell_type": "code",
   "execution_count": 83,
   "metadata": {},
   "outputs": [],
   "source": [
    "cleanup_letters = {\"land_surface_condition\": {\"n\": 1, \"o\": 2, \"t\":3},\n",
    "                \"foundation_type\": {\"h\": 1, \"i\": 2, \"r\": 3, \"u\": 4, \"w\": 5},               \n",
    "                \"roof_type\": {\"n\": 1, \"q\": 2, \"x\": 3},\n",
    "                \"ground_floor_type\": {\"f\": 1, \"m\": 2, \"v\": 3, \"x\": 4, \"z\": 5},\n",
    "                \"other_floor_type\": {\"j\": 1, \"q\": 2, \"s\": 3, \"x\": 4},\n",
    "                \"position\": {\"j\": 1, \"o\": 2, \"s\": 3, \"t\": 4},\n",
    "                \"plan_configuration\": {\"a\": 1, \"c\": 2, \"d\": 3, \"f\": 4, \"m\": 5, \"n\": 6, \"o\": 7, \"q\": 8, \"s\": 9, \"u\":10},\n",
    "                \"legal_ownership_status\": {\"a\": 1, \"r\": 2, \"v\": 3, \"w\": 4}             \n",
    "               }\n",
    "data.replace(cleanup_letters, inplace=True)\n",
    "testdata.replace(cleanup_letters, inplace=True)\n",
    "a = list(data)\n",
    "del a[-1]\n",
    "x = data[a].values\n",
    "y = trainout['damage_grade'].values"
   ]
  },
  {
   "cell_type": "code",
   "execution_count": 84,
   "metadata": {},
   "outputs": [],
   "source": [
    "from sklearn.model_selection import train_test_split\n",
    "X_train, X_test, y_train, y_test = train_test_split(x, y, test_size=0.2, random_state=42)"
   ]
  },
  {
   "cell_type": "code",
   "execution_count": 85,
   "metadata": {},
   "outputs": [],
   "source": [
    "#logistic regression"
   ]
  },
  {
   "cell_type": "code",
   "execution_count": 86,
   "metadata": {},
   "outputs": [
    {
     "name": "stderr",
     "output_type": "stream",
     "text": [
      "C:\\Users\\HP\\Anaconda3\\lib\\site-packages\\sklearn\\linear_model\\logistic.py:433: FutureWarning: Default solver will be changed to 'lbfgs' in 0.22. Specify a solver to silence this warning.\n",
      "  FutureWarning)\n",
      "C:\\Users\\HP\\Anaconda3\\lib\\site-packages\\sklearn\\linear_model\\logistic.py:460: FutureWarning: Default multi_class will be changed to 'auto' in 0.22. Specify the multi_class option to silence this warning.\n",
      "  \"this warning.\", FutureWarning)\n"
     ]
    },
    {
     "name": "stdout",
     "output_type": "stream",
     "text": [
      "F1 score Model 1 :  0.5736651253813242\n",
      "              precision    recall  f1-score   support\n",
      "\n",
      "           1       0.60      0.19      0.29      5170\n",
      "           2       0.58      0.94      0.72     29487\n",
      "           3       0.49      0.06      0.11     17464\n",
      "\n",
      "   micro avg       0.57      0.57      0.57     52121\n",
      "   macro avg       0.56      0.40      0.37     52121\n",
      "weighted avg       0.55      0.57      0.47     52121\n",
      "\n",
      "0.5736651253813242\n",
      "0.8138411310003133\n",
      "0.5254423276451331\n"
     ]
    }
   ],
   "source": [
    "import numpy as np\n",
    "model_1 = LogisticRegression()\n",
    "model_1.fit(X_train,y_train)\n",
    "y_pred1=model_1.predict(X_test)\n",
    "f1_model1=f1_score(y_test,y_pred1,average='micro',labels=np.unique(y_pred1))\n",
    "print(\"F1 score Model 1 : \",f1_model1)\n",
    "from sklearn import metrics\n",
    "print(metrics.classification_report(y_test, y_pred1))\n",
    "from sklearn.metrics import accuracy_score\n",
    "acc=accuracy_score(y_test, y_pred1, normalize=True, sample_weight=None)\n",
    "print(acc)\n",
    "y_pr1=model_1.predict_proba(X_test)\n",
    "from sklearn.metrics import log_loss\n",
    "ll=sklearn.metrics.log_loss(y_test, y_pr1, normalize=True)\n",
    "print(ll)\n",
    "from sklearn import preprocessing\n",
    "def multiclass_roc_auc_score(y_test, y_pred, average=\"macro\"):\n",
    " lb = preprocessing.LabelBinarizer()\n",
    " lb.fit(y_test)\n",
    " y_test = lb.transform(y_test)\n",
    " y_pred = lb.transform(y_pred)\n",
    " return roc_auc_score(y_test, y_pred, average=average)\n",
    "from sklearn.metrics import roc_auc_score\n",
    "roc=multiclass_roc_auc_score(y_test, y_pred1, average=\"weighted\")\n",
    "print(roc)"
   ]
  },
  {
   "cell_type": "code",
   "execution_count": 87,
   "metadata": {},
   "outputs": [
    {
     "name": "stdout",
     "output_type": "stream",
     "text": [
      "F1 score Model 3 :  0.65520615490877\n",
      "              precision    recall  f1-score   support\n",
      "\n",
      "           1       0.49      0.50      0.49      5170\n",
      "           2       0.71      0.70      0.71     29487\n",
      "           3       0.62      0.62      0.62     17464\n",
      "\n",
      "   micro avg       0.66      0.66      0.66     52121\n",
      "   macro avg       0.60      0.61      0.61     52121\n",
      "weighted avg       0.66      0.66      0.66     52121\n",
      "\n",
      "0.65520615490877\n",
      "11.595246964082454\n",
      "0.6855491996274105\n"
     ]
    }
   ],
   "source": [
    "model_3 = DecisionTreeClassifier()\n",
    "model_3.fit(X_train,y_train)\n",
    "y_pred3=model_3.predict(X_test)\n",
    "f1_model3=f1_score(y_test,y_pred3,average='micro',labels=np.unique(y_pred3))\n",
    "print(\"F1 score Model 3 : \",f1_model3)\n",
    "print(metrics.classification_report(y_test, y_pred3))\n",
    "import sklearn\n",
    "from sklearn.metrics import accuracy_score\n",
    "acc=accuracy_score(y_test, y_pred3, normalize=True, sample_weight=None)\n",
    "print(acc)\n",
    "y_pr3=model_3.predict_proba(X_test)\n",
    "from sklearn.metrics import log_loss\n",
    "ll=sklearn.metrics.log_loss(y_test, y_pr3, normalize=True)\n",
    "print(ll)\n",
    "from sklearn import preprocessing\n",
    "def multiclass_roc_auc_score(y_test, y_pred, average=\"macro\"):\n",
    " lb = preprocessing.LabelBinarizer()\n",
    " lb.fit(y_test)\n",
    " y_test = lb.transform(y_test)\n",
    " y_pred = lb.transform(y_pred)\n",
    " return roc_auc_score(y_test, y_pred, average=average)\n",
    "from sklearn.metrics import roc_auc_score\n",
    "roc=multiclass_roc_auc_score(y_test, y_pred3, average=\"weighted\")\n",
    "print(roc)"
   ]
  },
  {
   "cell_type": "code",
   "execution_count": 88,
   "metadata": {},
   "outputs": [
    {
     "name": "stdout",
     "output_type": "stream",
     "text": [
      "F1 score Model 6 :  0.5951833010335918\n"
     ]
    },
    {
     "name": "stderr",
     "output_type": "stream",
     "text": [
      "C:\\Users\\HP\\Anaconda3\\lib\\site-packages\\sklearn\\metrics\\classification.py:1143: UndefinedMetricWarning: Precision and F-score are ill-defined and being set to 0.0 in labels with no predicted samples.\n",
      "  'precision', 'predicted', average, warn_for)\n"
     ]
    },
    {
     "name": "stdout",
     "output_type": "stream",
     "text": [
      "              precision    recall  f1-score   support\n",
      "\n",
      "           1       0.00      0.00      0.00      5170\n",
      "           2       0.57      1.00      0.72     29487\n",
      "           3       0.39      0.00      0.00     17464\n",
      "\n",
      "   micro avg       0.57      0.57      0.57     52121\n",
      "   macro avg       0.32      0.33      0.24     52121\n",
      "weighted avg       0.45      0.57      0.41     52121\n",
      "\n",
      "0.5656645114253372\n",
      "0.9071036125981874\n",
      "0.4999959365219742\n"
     ]
    }
   ],
   "source": [
    "from sklearn.neighbors import KNeighborsClassifier\n",
    "model_6 = KNeighborsClassifier(n_neighbors=2000)\n",
    "model_6.fit(X_train,y_train)\n",
    "y_pred6=model_6.predict(X_test)\n",
    "f1_model6=f1_score(y_test,y_pred6,average='micro',labels=np.unique(y_pred6))\n",
    "print(\"F1 score Model 6 : \",f1_model6)\n",
    "print(metrics.classification_report(y_test, y_pred6))\n",
    "from sklearn.metrics import accuracy_score\n",
    "acc=accuracy_score(y_test, y_pred6, normalize=True, sample_weight=None)\n",
    "print(acc)\n",
    "y_pr6=model_6.predict_proba(X_test)\n",
    "from sklearn.metrics import log_loss\n",
    "ll=sklearn.metrics.log_loss(y_test, y_pr6, normalize=True)\n",
    "print(ll)\n",
    "from sklearn import preprocessing\n",
    "def multiclass_roc_auc_score(y_test, y_pred, average=\"macro\"):\n",
    " lb = preprocessing.LabelBinarizer()\n",
    " lb.fit(y_test)\n",
    " y_test = lb.transform(y_test)\n",
    " y_pred = lb.transform(y_pred)\n",
    " return roc_auc_score(y_test, y_pred, average=average)\n",
    "from sklearn.metrics import roc_auc_score\n",
    "roc=multiclass_roc_auc_score(y_test, y_pred6, average=\"weighted\")\n",
    "print(roc)"
   ]
  },
  {
   "cell_type": "code",
   "execution_count": 39,
   "metadata": {},
   "outputs": [
    {
     "data": {
      "image/png": "[encoded data removed]",
      "text/plain": [
       "<Figure size 432x288 with 1 Axes>"
      ]
     },
     "metadata": {
      "needs_background": "light"
     },
     "output_type": "display_data"
    }
   ],
   "source": [
    "import matplotlib.pyplot as plt\n",
    "left_values = [1,2,3,4,5,6]\n",
    "KNN=59.83\n",
    "LOG=57.83\n",
    "ANN=60.87\n",
    "DEC=65.50\n",
    "RAN=74.04\n",
    "RANM=84.28\n",
    "heights = [LOG,KNN,ANN,DEC,RAN,RANM]\n",
    "labels = ['Logistic','KNN','Neural \\n network','Decision \\n tree','Random \\n forest','Random forest \\n multiple time']\n",
    "plt.bar(left_values, heights, tick_label = labels, width = 0.7, color = ['red', 'green','yellow','blue','black','purple'])\n",
    "plt.xlabel('model')\n",
    "plt.ylabel('micro-averaged F1 score')\n",
    "plt.title('Comparision between different classifiers')\n",
    "plt.show()"
   ]
  },
  {
   "cell_type": "code",
   "execution_count": 92,
   "metadata": {},
   "outputs": [
    {
     "data": {
      "image/png": "[encoded data removed]",
      "text/plain": [
       "<Figure size 432x288 with 1 Axes>"
      ]
     },
     "metadata": {
      "needs_background": "light"
     },
     "output_type": "display_data"
    }
   ],
   "source": [
    "import matplotlib.pyplot as plt\n",
    "left_values = [1,2,3,4,5]\n",
    "KNN=0.5656645114253372\n",
    "LOG=0.5736651253813242\n",
    "ANN=0.5694633640950865\n",
    "DEC=0.65614627501391\n",
    "RANM=0.842827267320274\n",
    "heights = [LOG,KNN,ANN,DEC,RANM]\n",
    "labels = ['Logistic','KNN','Neural \\n network','Decision \\n tree','Random forest \\n multiple time']\n",
    "plt.bar(left_values, heights, tick_label = labels, width = 0.7, color = ['red', 'green','yellow','blue','purple'])\n",
    "plt.xlabel('model')\n",
    "plt.ylabel('accuracy score')\n",
    "plt.title('Comparision between different classifiers')\n",
    "plt.show()"
   ]
  },
  {
   "cell_type": "code",
   "execution_count": 94,
   "metadata": {},
   "outputs": [
    {
     "data": {
      "image/png": "[encoded data removed]",
      "text/plain": [
       "<Figure size 432x288 with 1 Axes>"
      ]
     },
     "metadata": {
      "needs_background": "light"
     },
     "output_type": "display_data"
    }
   ],
   "source": [
    "import matplotlib.pyplot as plt\n",
    "left_values = [1,2,3,4,5]\n",
    "KNN=0.9071036125981874\n",
    "LOG=0.8138411310003133\n",
    "ANN=0.9114675386381845\n",
    "DEC=11.559306713656426\n",
    "RANM=0.3963479339233164\n",
    "heights = [LOG,KNN,ANN,DEC,RANM]\n",
    "labels = ['Logistic','KNN','Neural \\n network','Decision \\n tree','Random forest \\n multiple time']\n",
    "plt.bar(left_values, heights, tick_label = labels, width = 0.7, color = ['red', 'green','yellow','blue','purple'])\n",
    "plt.xlabel('model')\n",
    "plt.ylabel('log loss')\n",
    "plt.title('Comparision between different classifiers')\n",
    "plt.show()"
   ]
  },
  {
   "cell_type": "code",
   "execution_count": 96,
   "metadata": {},
   "outputs": [
    {
     "data": {
      "image/png": "[encoded data removed]",
      "text/plain": [
       "<Figure size 432x288 with 1 Axes>"
      ]
     },
     "metadata": {
      "needs_background": "light"
     },
     "output_type": "display_data"
    }
   ],
   "source": [
    "import matplotlib.pyplot as plt\n",
    "left_values = [1,2,3,4,5]\n",
    "KNN=0.4999959365219742\n",
    "LOG=0.5254423276451331\n",
    "ANN=0.5\n",
    "DEC=0.6855491996274105\n",
    "RANM=0.8371901113284672\n",
    "heights = [LOG,KNN,ANN,DEC,RANM]\n",
    "labels = ['Logistic','KNN','Neural \\n network','Decision \\n tree','Random forest \\n multiple time']\n",
    "plt.bar(left_values, heights, tick_label = labels, width = 0.7, color = ['red', 'green','yellow','blue','purple'])\n",
    "plt.xlabel('model')\n",
    "plt.ylabel('ROC-AUC score')\n",
    "plt.title('Comparision between different classifiers')\n",
    "plt.show()"
   ]
  },
  {
   "cell_type": "code",
   "execution_count": null,
   "metadata": {},
   "outputs": [],
   "source": []
  },
  {
   "cell_type": "code",
   "execution_count": null,
   "metadata": {},
   "outputs": [],
   "source": []
  },
  {
   "cell_type": "code",
   "execution_count": null,
   "metadata": {},
   "outputs": [],
   "source": []
  },
  {
   "cell_type": "code",
   "execution_count": null,
   "metadata": {},
   "outputs": [],
   "source": []
  },
  {
   "cell_type": "code",
   "execution_count": null,
   "metadata": {},
   "outputs": [],
   "source": [
    "cm = confusion_matrix(y_test, predict)\n",
    "sum = 0\n",
    "for i in range(cm.shape[0]):\n",
    "    sum += cm[i][i]\n",
    "    \n",
    "accuracy = sum/x_test.shape[0]\n",
    "print(accuracy)"
   ]
  },
  {
   "cell_type": "code",
   "execution_count": 13,
   "metadata": {},
   "outputs": [
    {
     "name": "stdout",
     "output_type": "stream",
     "text": [
      "F1 score Model 4 :  0.7163715201166516\n",
      "              precision    recall  f1-score   support\n",
      "\n",
      "           1       0.64      0.48      0.55      4979\n",
      "           2       0.72      0.82      0.77     29703\n",
      "           3       0.72      0.60      0.65     17439\n",
      "\n",
      "   micro avg       0.72      0.72      0.72     52121\n",
      "   macro avg       0.69      0.63      0.66     52121\n",
      "weighted avg       0.71      0.72      0.71     52121\n",
      "\n"
     ]
    }
   ],
   "source": [
    "model_4 = RandomForestClassifier(n_estimators=50)\n",
    "model_4.fit(X_train,y_train)\n",
    "y_pred4=model_4.predict(X_test)\n",
    "f1_model4=f1_score(y_test,y_pred4,average='micro',labels=np.unique(y_pred4))\n",
    "print(\"F1 score Model 4 : \",f1_model4)\n",
    "print(metrics.classification_report(y_test, y_pred4))"
   ]
  },
  {
   "cell_type": "code",
   "execution_count": null,
   "metadata": {},
   "outputs": [
    {
     "name": "stderr",
     "output_type": "stream",
     "text": [
      "C:\\Users\\HP\\Anaconda3\\lib\\site-packages\\sklearn\\svm\\base.py:196: FutureWarning: The default value of gamma will change from 'auto' to 'scale' in version 0.22 to account better for unscaled features. Set gamma explicitly to 'auto' or 'scale' to avoid this warning.\n",
      "  \"avoid this warning.\", FutureWarning)\n"
     ]
    }
   ],
   "source": [
    "model_2 = SVC()\n",
    "model_2.fit(X_train,y_train)\n",
    "y_pred2=model_2.predict(X_test)\n",
    "f1_model2=f1_score(y_test,y_pred2,average='micro',labels=np.unique(y_pred2))\n",
    "print(\"F1 score Model 2 : \",f1_model2)"
   ]
  },
  {
   "cell_type": "code",
   "execution_count": null,
   "metadata": {},
   "outputs": [],
   "source": [
    "model_5 = GradientBoostingClassifier()\n",
    "model_5.fit(X_train,y_train)\n",
    "y_pred5=model_5.predict(X_test)\n",
    "f1_model5=f1_score(y_test,y_pred5,average='micro',labels=np.unique(y_pred5))\n",
    "print(\"F1 score Model 5 : \",f1_model5)"
   ]
  },
  {
   "cell_type": "code",
   "execution_count": 4,
   "metadata": {},
   "outputs": [],
   "source": [
    "#svc"
   ]
  }
 ],
 "metadata": {
  "kernelspec": {
   "display_name": "Python 3",
   "language": "python",
   "name": "python3"
  },
  "language_info": {
   "codemirror_mode": {
    "name": "ipython",
    "version": 3
   },
   "file_extension": ".py",
   "mimetype": "text/x-python",
   "name": "python",
   "nbconvert_exporter": "python",
   "pygments_lexer": "ipython3",
   "version": "3.7.3"
  }
 },
 "nbformat": 4,
 "nbformat_minor": 2
}
