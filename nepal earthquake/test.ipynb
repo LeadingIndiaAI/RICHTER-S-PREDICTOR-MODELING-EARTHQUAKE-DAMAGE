{
 "cells": [
  {
   "cell_type": "code",
   "execution_count": 1,
   "metadata": {},
   "outputs": [],
   "source": [
    "import pandas as pd\n",
    "import matplotlib.pyplot as plt\n",
    "from sklearn.model_selection import train_test_split\n",
    "from sklearn.ensemble import RandomForestClassifier\n",
    "from sklearn import metrics\n",
    "%matplotlib inline\n",
    "\n",
    "traindata = pd.read_csv(\"train_values.csv\",sep=',')\n",
    "traindata.columns[traindata.isna().any()]\n",
    "data=traindata\n",
    "data.drop(['building_id'], axis=1, inplace=True)\n",
    "trainlabels = pd.read_csv(\"train_labels.csv\",sep=',')\n",
    "trainout=trainlabels\n",
    "trainout.drop(['building_id'], axis=1, inplace=True)\n",
    "testvalues = pd.read_csv(\"test_values.csv\",sep=',')\n",
    "testdata=testvalues\n",
    "testdata.drop(['building_id'], axis=1, inplace=True)"
   ]
  },
  {
   "cell_type": "code",
   "execution_count": 2,
   "metadata": {},
   "outputs": [],
   "source": [
    "cleanup_letters = {\"land_surface_condition\": {\"n\": 1, \"o\": 2, \"t\":3},\n",
    "                \"foundation_type\": {\"h\": 1, \"i\": 2, \"r\": 3, \"u\": 4, \"w\": 5},               \n",
    "                \"roof_type\": {\"n\": 1, \"q\": 2, \"x\": 3},\n",
    "                \"ground_floor_type\": {\"f\": 1, \"m\": 2, \"v\": 3, \"x\": 4, \"z\": 5},\n",
    "                \"other_floor_type\": {\"j\": 1, \"q\": 2, \"s\": 3, \"x\": 4},\n",
    "                \"position\": {\"j\": 1, \"o\": 2, \"s\": 3, \"t\": 4},\n",
    "                \"plan_configuration\": {\"a\": 1, \"c\": 2, \"d\": 3, \"f\": 4, \"m\": 5, \"n\": 6, \"o\": 7, \"q\": 8, \"s\": 9, \"u\":10},\n",
    "                \"legal_ownership_status\": {\"a\": 1, \"r\": 2, \"v\": 3, \"w\": 4}             \n",
    "               }\n",
    "data.replace(cleanup_letters, inplace=True)\n",
    "testdata.replace(cleanup_letters, inplace=True)\n",
    "a = list(data)\n",
    "del a[-1]\n",
    "x = data[a].values\n",
    "y = trainout['damage_grade'].values\n",
    "from sklearn.model_selection import train_test_split\n",
    "x_train,x_test,y_train,y_test=train_test_split(x,y,test_size=0.2,random_state=0)"
   ]
  },
  {
   "cell_type": "code",
   "execution_count": 3,
   "metadata": {},
   "outputs": [
    {
     "data": {
      "text/plain": [
       "(52121, 37)"
      ]
     },
     "execution_count": 3,
     "metadata": {},
     "output_type": "execute_result"
    }
   ],
   "source": [
    "x_test.shape"
   ]
  },
  {
   "cell_type": "code",
   "execution_count": 4,
   "metadata": {},
   "outputs": [
    {
     "data": {
      "text/plain": [
       "RandomForestClassifier(bootstrap=True, class_weight=None, criterion='gini',\n",
       "            max_depth=None, max_features=25, max_leaf_nodes=None,\n",
       "            min_impurity_decrease=0.0, min_impurity_split=None,\n",
       "            min_samples_leaf=5, min_samples_split=2,\n",
       "            min_weight_fraction_leaf=0.0, n_estimators=750, n_jobs=-1,\n",
       "            oob_score=False, random_state=42, verbose=0, warm_start=False)"
      ]
     },
     "execution_count": 4,
     "metadata": {},
     "output_type": "execute_result"
    }
   ],
   "source": [
    "clf = RandomForestClassifier(n_estimators=750,max_features=25,min_samples_leaf=5,n_jobs=-1,random_state=42)\n",
    "clf.fit(x, y)"
   ]
  },
  {
   "cell_type": "code",
   "execution_count": 5,
   "metadata": {},
   "outputs": [],
   "source": [
    "y_pred=clf.predict(x_test)\n",
    "df=pd.DataFrame({'actual':y_test,'predicted':y_pred})"
   ]
  },
  {
   "cell_type": "code",
   "execution_count": 6,
   "metadata": {},
   "outputs": [
    {
     "data": {
      "text/plain": [
       "0.842827267320274"
      ]
     },
     "execution_count": 6,
     "metadata": {},
     "output_type": "execute_result"
    }
   ],
   "source": [
    "acc=clf.score(x_test,y_test)\n",
    "acc"
   ]
  },
  {
   "cell_type": "code",
   "execution_count": 7,
   "metadata": {},
   "outputs": [
    {
     "data": {
      "text/plain": [
       "0.842827267320274"
      ]
     },
     "execution_count": 7,
     "metadata": {},
     "output_type": "execute_result"
    }
   ],
   "source": [
    "from sklearn.metrics import f1_score\n",
    "f1 = f1_score(y_test, y_pred,average='micro')\n",
    "f1"
   ]
  },
  {
   "cell_type": "code",
   "execution_count": 8,
   "metadata": {},
   "outputs": [
    {
     "name": "stdout",
     "output_type": "stream",
     "text": [
      "              precision    recall  f1-score   support\n",
      "\n",
      "           1       0.87      0.66      0.75      4979\n",
      "           2       0.82      0.93      0.87     29703\n",
      "           3       0.88      0.75      0.81     17439\n",
      "\n",
      "   micro avg       0.84      0.84      0.84     52121\n",
      "   macro avg       0.86      0.78      0.81     52121\n",
      "weighted avg       0.85      0.84      0.84     52121\n",
      "\n"
     ]
    }
   ],
   "source": [
    "from sklearn import metrics\n",
    "print(metrics.classification_report(y_test, y_pred))"
   ]
  },
  {
   "cell_type": "code",
   "execution_count": 12,
   "metadata": {},
   "outputs": [
    {
     "name": "stdout",
     "output_type": "stream",
     "text": [
      "0.842827267320274\n",
      "0.3963479339233164\n"
     ]
    }
   ],
   "source": [
    "import sklearn\n",
    "from sklearn import metrics\n",
    "from sklearn.metrics import accuracy_score\n",
    "acc=accuracy_score(y_test, y_pred, normalize=True, sample_weight=None)\n",
    "print(acc)\n",
    "y_pr=clf.predict_proba(x_test)\n",
    "from sklearn.metrics import log_loss\n",
    "ll=sklearn.metrics.log_loss(y_test, y_pr, normalize=True)\n",
    "print(ll)"
   ]
  },
  {
   "cell_type": "code",
   "execution_count": 13,
   "metadata": {},
   "outputs": [
    {
     "name": "stdout",
     "output_type": "stream",
     "text": [
      "0.8371901113284672\n"
     ]
    }
   ],
   "source": [
    "from sklearn import preprocessing\n",
    "def multiclass_roc_auc_score(y_test, y_pred, average=\"macro\"):\n",
    " lb = preprocessing.LabelBinarizer()\n",
    " lb.fit(y_test)\n",
    " y_test = lb.transform(y_test)\n",
    " y_pred = lb.transform(y_pred)\n",
    " return roc_auc_score(y_test, y_pred, average=average)\n",
    "from sklearn.metrics import roc_auc_score\n",
    "roc=multiclass_roc_auc_score(y_test, y_pred, average=\"weighted\")\n",
    "print(roc)"
   ]
  },
  {
   "cell_type": "code",
   "execution_count": 35,
   "metadata": {},
   "outputs": [],
   "source": [
    "test=testdata[a].values\n",
    "y_pred=clf.predict(test)\n",
    "df1=pd.DataFrame({'damage_grade':y_pred})\n",
    "traindata = pd.read_csv(\"test_values.csv\",sep=',')\n",
    "building_id = traindata['building_id'].values\n",
    "building_id\n",
    "df1['building_id'] = building_id\n",
    "cols = df1.columns.tolist()\n",
    "cols = cols[-1:] + cols[:-1]\n",
    "df1 = df1[cols]"
   ]
  },
  {
   "cell_type": "code",
   "execution_count": 36,
   "metadata": {},
   "outputs": [],
   "source": [
    "export_csv = df1.to_csv (r'C:\\Users\\HP\\Desktop\\10.csv', index = None, header=True)"
   ]
  },
  {
   "cell_type": "code",
   "execution_count": 39,
   "metadata": {},
   "outputs": [
    {
     "name": "stdout",
     "output_type": "stream",
     "text": [
      "Variable: geo_level_1_id       Importance: 0.2357667859621401\n",
      "Variable: geo_level_2_id       Importance: 0.15855575964160495\n",
      "Variable: geo_level_3_id       Importance: 0.14180575014162225\n",
      "Variable: age                  Importance: 0.09294530295272828\n",
      "Variable: area_percentage      Importance: 0.07911996618000398\n",
      "Variable: height_percentage    Importance: 0.04441795826322025\n",
      "Variable: has_superstructure_mud_mortar_stone Importance: 0.03815434032877077\n",
      "Variable: foundation_type      Importance: 0.02790631827038752\n",
      "Variable: roof_type            Importance: 0.02735505631020952\n",
      "Variable: count_floors_pre_eq  Importance: 0.017163661835242025\n",
      "Variable: other_floor_type     Importance: 0.016614128326996606\n",
      "Variable: position             Importance: 0.013967493368736442\n",
      "Variable: land_surface_condition Importance: 0.012447449836989186\n",
      "Variable: ground_floor_type    Importance: 0.012179870462427687\n",
      "Variable: has_superstructure_timber Importance: 0.011859488975603526\n",
      "Variable: count_families       Importance: 0.009432097923313405\n",
      "Variable: has_superstructure_adobe_mud Importance: 0.008673797205803876\n",
      "Variable: has_superstructure_cement_mortar_brick Importance: 0.007572791306436011\n",
      "Variable: has_superstructure_stone_flag Importance: 0.007065700979966709\n",
      "Variable: has_superstructure_mud_mortar_brick Importance: 0.006466259961370248\n",
      "Variable: has_secondary_use    Importance: 0.006305031970917599\n",
      "Variable: has_superstructure_bamboo Importance: 0.005578518708530546\n",
      "Variable: legal_ownership_status Importance: 0.0037977569956098725\n",
      "Variable: has_secondary_use_agriculture Importance: 0.0033988803870939463\n",
      "Variable: has_superstructure_rc_non_engineered Importance: 0.0028258549418687657\n",
      "Variable: plan_configuration   Importance: 0.0027590049800353088\n",
      "Variable: has_superstructure_other Importance: 0.0017233802765611286\n",
      "Variable: has_secondary_use_hotel Importance: 0.0014070396562757494\n",
      "Variable: has_superstructure_cement_mortar_stone Importance: 0.0012110883102565931\n",
      "Variable: has_superstructure_rc_engineered Importance: 0.0011908630401235463\n",
      "Variable: has_secondary_use_rental Importance: 0.0003267866069400344\n",
      "Variable: has_secondary_use_institution Importance: 2.7050145651390067e-06\n",
      "Variable: has_secondary_use_industry Importance: 2.0803361836947918e-06\n",
      "Variable: has_secondary_use_school Importance: 1.0305414643755092e-06\n",
      "Variable: has_secondary_use_health_post Importance: 0.0\n",
      "Variable: has_secondary_use_gov_office Importance: 0.0\n",
      "Variable: has_secondary_use_use_police Importance: 0.0\n"
     ]
    },
    {
     "data": {
      "text/plain": [
       "[None,\n",
       " None,\n",
       " None,\n",
       " None,\n",
       " None,\n",
       " None,\n",
       " None,\n",
       " None,\n",
       " None,\n",
       " None,\n",
       " None,\n",
       " None,\n",
       " None,\n",
       " None,\n",
       " None,\n",
       " None,\n",
       " None,\n",
       " None,\n",
       " None,\n",
       " None,\n",
       " None,\n",
       " None,\n",
       " None,\n",
       " None,\n",
       " None,\n",
       " None,\n",
       " None,\n",
       " None,\n",
       " None,\n",
       " None,\n",
       " None,\n",
       " None,\n",
       " None,\n",
       " None,\n",
       " None,\n",
       " None,\n",
       " None]"
      ]
     },
     "execution_count": 39,
     "metadata": {},
     "output_type": "execute_result"
    }
   ],
   "source": [
    "feature_importances = [(feature, importance) for feature,importance in zip(a, clf.feature_importances_)]\n",
    "# Sort the feature importances by most important first\n",
    "feature_importances = sorted(feature_importances, key = lambda x: x[1], reverse = True)\n",
    "# Print out the feature and importances \n",
    "[print('Variable: {:20} Importance: {}'.format(*pair)) for pair in feature_importances]"
   ]
  },
  {
   "cell_type": "code",
   "execution_count": 52,
   "metadata": {},
   "outputs": [
    {
     "data": {
      "text/plain": [
       "SelectFromModel(estimator=RandomForestClassifier(bootstrap=True, class_weight=None, criterion='gini',\n",
       "            max_depth=None, max_features=25, max_leaf_nodes=None,\n",
       "            min_impurity_decrease=0.0, min_impurity_split=None,\n",
       "            min_samples_leaf=5, min_samples_split=2,\n",
       "            min_weight_fraction_leaf=0.0, n_estimators=750, n_jobs=-1,\n",
       "            oob_score=False, random_state=42, verbose=0, warm_start=False),\n",
       "        max_features=None, norm_order=1, prefit=False,\n",
       "        threshold=0.0011908630401235463)"
      ]
     },
     "execution_count": 52,
     "metadata": {},
     "output_type": "execute_result"
    }
   ],
   "source": [
    "from sklearn.feature_selection import SelectFromModel\n",
    "from sklearn.metrics import accuracy_score\n",
    "sfm = SelectFromModel(clf, threshold= 0.0011908630401235463)\n",
    "\n",
    "sfm.fit(x_train, y_train)"
   ]
  },
  {
   "cell_type": "code",
   "execution_count": 53,
   "metadata": {},
   "outputs": [
    {
     "data": {
      "text/plain": [
       "RandomForestClassifier(bootstrap=True, class_weight=None, criterion='gini',\n",
       "            max_depth=None, max_features=25, max_leaf_nodes=None,\n",
       "            min_impurity_decrease=0.0, min_impurity_split=None,\n",
       "            min_samples_leaf=5, min_samples_split=2,\n",
       "            min_weight_fraction_leaf=0.0, n_estimators=750, n_jobs=-1,\n",
       "            oob_score=False, random_state=42, verbose=0, warm_start=False)"
      ]
     },
     "execution_count": 53,
     "metadata": {},
     "output_type": "execute_result"
    }
   ],
   "source": [
    "x_important_train = sfm.transform(x_train)\n",
    "x_important_test = sfm.transform(x_test)\n",
    "clf_important = RandomForestClassifier(n_estimators=750,max_features=25,min_samples_leaf=5,n_jobs=-1,random_state=42)#, max_features=25)#,random_state=0, n_jobs=-1)\n",
    "clf_important.fit(x_important_train, y_train)"
   ]
  },
  {
   "cell_type": "code",
   "execution_count": 54,
   "metadata": {},
   "outputs": [
    {
     "data": {
      "text/plain": [
       "0.7404692926075862"
      ]
     },
     "execution_count": 54,
     "metadata": {},
     "output_type": "execute_result"
    }
   ],
   "source": [
    "y_important_pred = clf_important.predict(x_important_test)\n",
    "accuracy_score(y_test, y_important_pred)"
   ]
  },
  {
   "cell_type": "code",
   "execution_count": 55,
   "metadata": {},
   "outputs": [
    {
     "data": {
      "text/plain": [
       "0.7404692926075862"
      ]
     },
     "execution_count": 55,
     "metadata": {},
     "output_type": "execute_result"
    }
   ],
   "source": [
    "from sklearn.metrics import f1_score\n",
    "f1 = f1_score(y_test, y_important_pred,average='micro')\n",
    "f1"
   ]
  },
  {
   "cell_type": "code",
   "execution_count": null,
   "metadata": {},
   "outputs": [],
   "source": []
  },
  {
   "cell_type": "code",
   "execution_count": null,
   "metadata": {},
   "outputs": [],
   "source": []
  },
  {
   "cell_type": "code",
   "execution_count": null,
   "metadata": {},
   "outputs": [],
   "source": []
  }
 ],
 "metadata": {
  "kernelspec": {
   "display_name": "Python 3",
   "language": "python",
   "name": "python3"
  },
  "language_info": {
   "codemirror_mode": {
    "name": "ipython",
    "version": 3
   },
   "file_extension": ".py",
   "mimetype": "text/x-python",
   "name": "python",
   "nbconvert_exporter": "python",
   "pygments_lexer": "ipython3",
   "version": "3.7.3"
  }
 },
 "nbformat": 4,
 "nbformat_minor": 2
}
